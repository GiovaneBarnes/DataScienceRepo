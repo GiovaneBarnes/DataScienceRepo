{
 "cells": [
  {
   "cell_type": "markdown",
   "metadata": {},
   "source": [
    "Data Science Project"
   ]
  },
  {
   "cell_type": "markdown",
   "metadata": {},
   "source": [
    "Car Price Prediction"
   ]
  },
  {
   "cell_type": "markdown",
   "metadata": {},
   "source": [
    "https://www.kaggle.com/code/mohamedahmed10000/car-price-prediction-with-accuracy-94-4"
   ]
  },
  {
   "cell_type": "code",
   "execution_count": 16,
   "metadata": {},
   "outputs": [],
   "source": [
    "import pandas as pd \n",
    "import numpy as np \n",
    "import seaborn as sns \n",
    "from sklearn.impute import SimpleImputer"
   ]
  },
  {
   "cell_type": "code",
   "execution_count": 17,
   "metadata": {},
   "outputs": [
    {
     "data": {
      "text/html": [
       "<div>\n",
       "<style scoped>\n",
       "    .dataframe tbody tr th:only-of-type {\n",
       "        vertical-align: middle;\n",
       "    }\n",
       "\n",
       "    .dataframe tbody tr th {\n",
       "        vertical-align: top;\n",
       "    }\n",
       "\n",
       "    .dataframe thead th {\n",
       "        text-align: right;\n",
       "    }\n",
       "</style>\n",
       "<table border=\"1\" class=\"dataframe\">\n",
       "  <thead>\n",
       "    <tr style=\"text-align: right;\">\n",
       "      <th></th>\n",
       "      <th>Unnamed: 0</th>\n",
       "      <th>Unnamed: 0.1</th>\n",
       "      <th>Name</th>\n",
       "      <th>Location</th>\n",
       "      <th>Year</th>\n",
       "      <th>Kilometers_Driven</th>\n",
       "      <th>Fuel_Type</th>\n",
       "      <th>Transmission</th>\n",
       "      <th>Owner_Type</th>\n",
       "      <th>Mileage</th>\n",
       "      <th>Engine</th>\n",
       "      <th>Power</th>\n",
       "      <th>Seats</th>\n",
       "      <th>Price</th>\n",
       "      <th>Brand</th>\n",
       "    </tr>\n",
       "  </thead>\n",
       "  <tbody>\n",
       "    <tr>\n",
       "      <th>1846</th>\n",
       "      <td>1884</td>\n",
       "      <td>1884</td>\n",
       "      <td>Honda Jazz</td>\n",
       "      <td>Kochi</td>\n",
       "      <td>2017</td>\n",
       "      <td>24700</td>\n",
       "      <td>Petrol</td>\n",
       "      <td>Manual</td>\n",
       "      <td>First</td>\n",
       "      <td>18.70</td>\n",
       "      <td>1199</td>\n",
       "      <td>88.70</td>\n",
       "      <td>5</td>\n",
       "      <td>7.07</td>\n",
       "      <td>Honda</td>\n",
       "    </tr>\n",
       "    <tr>\n",
       "      <th>3707</th>\n",
       "      <td>3780</td>\n",
       "      <td>3780</td>\n",
       "      <td>Mahindra Xylo</td>\n",
       "      <td>Pune</td>\n",
       "      <td>2013</td>\n",
       "      <td>167362</td>\n",
       "      <td>Diesel</td>\n",
       "      <td>Manual</td>\n",
       "      <td>First</td>\n",
       "      <td>11.68</td>\n",
       "      <td>2498</td>\n",
       "      <td>112.00</td>\n",
       "      <td>7</td>\n",
       "      <td>4.00</td>\n",
       "      <td>Mahindra</td>\n",
       "    </tr>\n",
       "    <tr>\n",
       "      <th>4112</th>\n",
       "      <td>4192</td>\n",
       "      <td>4192</td>\n",
       "      <td>Hyundai i10</td>\n",
       "      <td>Delhi</td>\n",
       "      <td>2013</td>\n",
       "      <td>53213</td>\n",
       "      <td>Petrol</td>\n",
       "      <td>Manual</td>\n",
       "      <td>First</td>\n",
       "      <td>19.81</td>\n",
       "      <td>1086</td>\n",
       "      <td>68.05</td>\n",
       "      <td>5</td>\n",
       "      <td>2.74</td>\n",
       "      <td>Hyundai</td>\n",
       "    </tr>\n",
       "    <tr>\n",
       "      <th>2841</th>\n",
       "      <td>2899</td>\n",
       "      <td>2899</td>\n",
       "      <td>Mahindra XUV500</td>\n",
       "      <td>Kolkata</td>\n",
       "      <td>2017</td>\n",
       "      <td>14600</td>\n",
       "      <td>Diesel</td>\n",
       "      <td>Manual</td>\n",
       "      <td>First</td>\n",
       "      <td>16.00</td>\n",
       "      <td>2179</td>\n",
       "      <td>140.00</td>\n",
       "      <td>7</td>\n",
       "      <td>14.50</td>\n",
       "      <td>Mahindra</td>\n",
       "    </tr>\n",
       "    <tr>\n",
       "      <th>374</th>\n",
       "      <td>384</td>\n",
       "      <td>384</td>\n",
       "      <td>Mercedes-Benz E-Class</td>\n",
       "      <td>Bangalore</td>\n",
       "      <td>2017</td>\n",
       "      <td>33900</td>\n",
       "      <td>Diesel</td>\n",
       "      <td>Automatic</td>\n",
       "      <td>First</td>\n",
       "      <td>15.00</td>\n",
       "      <td>2143</td>\n",
       "      <td>204.00</td>\n",
       "      <td>5</td>\n",
       "      <td>37.00</td>\n",
       "      <td>Mercedes-Benz</td>\n",
       "    </tr>\n",
       "    <tr>\n",
       "      <th>3516</th>\n",
       "      <td>3583</td>\n",
       "      <td>3583</td>\n",
       "      <td>Hyundai Verna</td>\n",
       "      <td>Mumbai</td>\n",
       "      <td>2011</td>\n",
       "      <td>58000</td>\n",
       "      <td>Petrol</td>\n",
       "      <td>Manual</td>\n",
       "      <td>Second</td>\n",
       "      <td>17.01</td>\n",
       "      <td>1591</td>\n",
       "      <td>121.30</td>\n",
       "      <td>5</td>\n",
       "      <td>4.00</td>\n",
       "      <td>Hyundai</td>\n",
       "    </tr>\n",
       "  </tbody>\n",
       "</table>\n",
       "</div>"
      ],
      "text/plain": [
       "      Unnamed: 0  Unnamed: 0.1                   Name   Location  Year  \\\n",
       "1846        1884          1884             Honda Jazz      Kochi  2017   \n",
       "3707        3780          3780          Mahindra Xylo       Pune  2013   \n",
       "4112        4192          4192            Hyundai i10      Delhi  2013   \n",
       "2841        2899          2899        Mahindra XUV500    Kolkata  2017   \n",
       "374          384           384  Mercedes-Benz E-Class  Bangalore  2017   \n",
       "3516        3583          3583          Hyundai Verna     Mumbai  2011   \n",
       "\n",
       "      Kilometers_Driven Fuel_Type Transmission Owner_Type  Mileage  Engine  \\\n",
       "1846              24700    Petrol       Manual      First    18.70    1199   \n",
       "3707             167362    Diesel       Manual      First    11.68    2498   \n",
       "4112              53213    Petrol       Manual      First    19.81    1086   \n",
       "2841              14600    Diesel       Manual      First    16.00    2179   \n",
       "374               33900    Diesel    Automatic      First    15.00    2143   \n",
       "3516              58000    Petrol       Manual     Second    17.01    1591   \n",
       "\n",
       "       Power  Seats  Price          Brand  \n",
       "1846   88.70      5   7.07          Honda  \n",
       "3707  112.00      7   4.00       Mahindra  \n",
       "4112   68.05      5   2.74        Hyundai  \n",
       "2841  140.00      7  14.50       Mahindra  \n",
       "374   204.00      5  37.00  Mercedes-Benz  \n",
       "3516  121.30      5   4.00        Hyundai  "
      ]
     },
     "execution_count": 17,
     "metadata": {},
     "output_type": "execute_result"
    }
   ],
   "source": [
    "df = pd.read_csv(\"CarPrediction.csv\")\n",
    "df.sample(6)"
   ]
  },
  {
   "cell_type": "code",
   "execution_count": 9,
   "metadata": {},
   "outputs": [
    {
     "data": {
      "text/plain": [
       "(5912, 15)"
      ]
     },
     "execution_count": 9,
     "metadata": {},
     "output_type": "execute_result"
    }
   ],
   "source": [
    "#Step 1: Data Cleaning and Feature Engineering\n",
    "df.shape"
   ]
  },
  {
   "cell_type": "code",
   "execution_count": 11,
   "metadata": {},
   "outputs": [
    {
     "data": {
      "text/plain": [
       "Unnamed: 0             int64\n",
       "Unnamed: 0.1           int64\n",
       "Name                  object\n",
       "Location              object\n",
       "Year                   int64\n",
       "Kilometers_Driven      int64\n",
       "Fuel_Type             object\n",
       "Transmission          object\n",
       "Owner_Type            object\n",
       "Mileage              float64\n",
       "Engine                 int64\n",
       "Power                float64\n",
       "Seats                  int64\n",
       "Price                float64\n",
       "Brand                 object\n",
       "dtype: object"
      ]
     },
     "execution_count": 11,
     "metadata": {},
     "output_type": "execute_result"
    }
   ],
   "source": [
    "type(df.columns)\n",
    "df.dtypes"
   ]
  },
  {
   "cell_type": "code",
   "execution_count": 12,
   "metadata": {},
   "outputs": [
    {
     "data": {
      "text/html": [
       "<div>\n",
       "<style scoped>\n",
       "    .dataframe tbody tr th:only-of-type {\n",
       "        vertical-align: middle;\n",
       "    }\n",
       "\n",
       "    .dataframe tbody tr th {\n",
       "        vertical-align: top;\n",
       "    }\n",
       "\n",
       "    .dataframe thead th {\n",
       "        text-align: right;\n",
       "    }\n",
       "</style>\n",
       "<table border=\"1\" class=\"dataframe\">\n",
       "  <thead>\n",
       "    <tr style=\"text-align: right;\">\n",
       "      <th></th>\n",
       "      <th>Unnamed: 0</th>\n",
       "      <th>Unnamed: 0.1</th>\n",
       "      <th>Year</th>\n",
       "      <th>Kilometers_Driven</th>\n",
       "      <th>Mileage</th>\n",
       "      <th>Engine</th>\n",
       "      <th>Power</th>\n",
       "      <th>Seats</th>\n",
       "      <th>Price</th>\n",
       "    </tr>\n",
       "  </thead>\n",
       "  <tbody>\n",
       "    <tr>\n",
       "      <th>count</th>\n",
       "      <td>5912.000000</td>\n",
       "      <td>5912.000000</td>\n",
       "      <td>5912.000000</td>\n",
       "      <td>5.912000e+03</td>\n",
       "      <td>5912.000000</td>\n",
       "      <td>5912.000000</td>\n",
       "      <td>5912.000000</td>\n",
       "      <td>5912.00000</td>\n",
       "      <td>5912.000000</td>\n",
       "    </tr>\n",
       "    <tr>\n",
       "      <th>mean</th>\n",
       "      <td>3012.791272</td>\n",
       "      <td>3012.791272</td>\n",
       "      <td>2013.450609</td>\n",
       "      <td>5.837766e+04</td>\n",
       "      <td>18.231778</td>\n",
       "      <td>1622.857070</td>\n",
       "      <td>113.014026</td>\n",
       "      <td>5.28180</td>\n",
       "      <td>9.584919</td>\n",
       "    </tr>\n",
       "    <tr>\n",
       "      <th>std</th>\n",
       "      <td>1735.810485</td>\n",
       "      <td>1735.810485</td>\n",
       "      <td>3.188638</td>\n",
       "      <td>9.189848e+04</td>\n",
       "      <td>4.431628</td>\n",
       "      <td>600.877459</td>\n",
       "      <td>53.797403</td>\n",
       "      <td>0.80269</td>\n",
       "      <td>11.233694</td>\n",
       "    </tr>\n",
       "    <tr>\n",
       "      <th>min</th>\n",
       "      <td>0.000000</td>\n",
       "      <td>0.000000</td>\n",
       "      <td>1998.000000</td>\n",
       "      <td>1.710000e+02</td>\n",
       "      <td>0.000000</td>\n",
       "      <td>72.000000</td>\n",
       "      <td>34.200000</td>\n",
       "      <td>2.00000</td>\n",
       "      <td>0.440000</td>\n",
       "    </tr>\n",
       "    <tr>\n",
       "      <th>25%</th>\n",
       "      <td>1510.750000</td>\n",
       "      <td>1510.750000</td>\n",
       "      <td>2012.000000</td>\n",
       "      <td>3.351275e+04</td>\n",
       "      <td>15.260000</td>\n",
       "      <td>1198.000000</td>\n",
       "      <td>75.000000</td>\n",
       "      <td>5.00000</td>\n",
       "      <td>3.500000</td>\n",
       "    </tr>\n",
       "    <tr>\n",
       "      <th>50%</th>\n",
       "      <td>3013.500000</td>\n",
       "      <td>3013.500000</td>\n",
       "      <td>2014.000000</td>\n",
       "      <td>5.286250e+04</td>\n",
       "      <td>18.200000</td>\n",
       "      <td>1493.000000</td>\n",
       "      <td>94.000000</td>\n",
       "      <td>5.00000</td>\n",
       "      <td>5.700000</td>\n",
       "    </tr>\n",
       "    <tr>\n",
       "      <th>75%</th>\n",
       "      <td>4515.250000</td>\n",
       "      <td>4515.250000</td>\n",
       "      <td>2016.000000</td>\n",
       "      <td>7.245375e+04</td>\n",
       "      <td>21.100000</td>\n",
       "      <td>1984.000000</td>\n",
       "      <td>138.100000</td>\n",
       "      <td>5.00000</td>\n",
       "      <td>10.012500</td>\n",
       "    </tr>\n",
       "    <tr>\n",
       "      <th>max</th>\n",
       "      <td>6018.000000</td>\n",
       "      <td>6018.000000</td>\n",
       "      <td>2019.000000</td>\n",
       "      <td>6.500000e+06</td>\n",
       "      <td>33.540000</td>\n",
       "      <td>5998.000000</td>\n",
       "      <td>560.000000</td>\n",
       "      <td>10.00000</td>\n",
       "      <td>160.000000</td>\n",
       "    </tr>\n",
       "  </tbody>\n",
       "</table>\n",
       "</div>"
      ],
      "text/plain": [
       "        Unnamed: 0  Unnamed: 0.1         Year  Kilometers_Driven      Mileage  \\\n",
       "count  5912.000000   5912.000000  5912.000000       5.912000e+03  5912.000000   \n",
       "mean   3012.791272   3012.791272  2013.450609       5.837766e+04    18.231778   \n",
       "std    1735.810485   1735.810485     3.188638       9.189848e+04     4.431628   \n",
       "min       0.000000      0.000000  1998.000000       1.710000e+02     0.000000   \n",
       "25%    1510.750000   1510.750000  2012.000000       3.351275e+04    15.260000   \n",
       "50%    3013.500000   3013.500000  2014.000000       5.286250e+04    18.200000   \n",
       "75%    4515.250000   4515.250000  2016.000000       7.245375e+04    21.100000   \n",
       "max    6018.000000   6018.000000  2019.000000       6.500000e+06    33.540000   \n",
       "\n",
       "            Engine        Power       Seats        Price  \n",
       "count  5912.000000  5912.000000  5912.00000  5912.000000  \n",
       "mean   1622.857070   113.014026     5.28180     9.584919  \n",
       "std     600.877459    53.797403     0.80269    11.233694  \n",
       "min      72.000000    34.200000     2.00000     0.440000  \n",
       "25%    1198.000000    75.000000     5.00000     3.500000  \n",
       "50%    1493.000000    94.000000     5.00000     5.700000  \n",
       "75%    1984.000000   138.100000     5.00000    10.012500  \n",
       "max    5998.000000   560.000000    10.00000   160.000000  "
      ]
     },
     "execution_count": 12,
     "metadata": {},
     "output_type": "execute_result"
    }
   ],
   "source": [
    "df.describe()"
   ]
  },
  {
   "cell_type": "code",
   "execution_count": 19,
   "metadata": {},
   "outputs": [],
   "source": [
    "df.drop_duplicates(inplace=True)"
   ]
  },
  {
   "cell_type": "code",
   "execution_count": 20,
   "metadata": {},
   "outputs": [],
   "source": [
    "df.drop(\"Unnamed: 0.1\", axis=1, inplace=True)"
   ]
  },
  {
   "cell_type": "code",
   "execution_count": 21,
   "metadata": {},
   "outputs": [],
   "source": [
    "null_col = ['Mileage', 'Engine' , 'Power','Seats']\n",
    "\n",
    "imputer = SimpleImputer(strategy='most_frequent')\n",
    "df[null_col] = imputer.fit_transform(df[null_col])"
   ]
  },
  {
   "cell_type": "code",
   "execution_count": 22,
   "metadata": {},
   "outputs": [],
   "source": [
    "df = df.convert_dtypes()"
   ]
  },
  {
   "cell_type": "code",
   "execution_count": 23,
   "metadata": {},
   "outputs": [
    {
     "data": {
      "text/plain": [
       "Unnamed: 0           0\n",
       "Name                 0\n",
       "Location             0\n",
       "Year                 0\n",
       "Kilometers_Driven    0\n",
       "Fuel_Type            0\n",
       "Transmission         0\n",
       "Owner_Type           0\n",
       "Mileage              0\n",
       "Engine               0\n",
       "dtype: int64"
      ]
     },
     "execution_count": 23,
     "metadata": {},
     "output_type": "execute_result"
    }
   ],
   "source": [
    "missing_values_count = df.isnull().sum()\n",
    "missing_values_count[0:10]"
   ]
  },
  {
   "cell_type": "code",
   "execution_count": null,
   "metadata": {},
   "outputs": [],
   "source": [
    "#Step 2: Data Understanding/Data Visualization\n",
    "#-Visualization of Numerical Columns and Outliers\n",
    "#-Boxplot? maybe for central tendacy?"
   ]
  },
  {
   "cell_type": "code",
   "execution_count": null,
   "metadata": {},
   "outputs": [],
   "source": [
    "#Step 3: Data Pre-Processing\n",
    "#-Transformation and Spliting"
   ]
  },
  {
   "cell_type": "code",
   "execution_count": null,
   "metadata": {},
   "outputs": [],
   "source": [
    "#Step 4: Modeling\n",
    "#-Linear Regression by using differnt methods to find the best accuracy"
   ]
  },
  {
   "cell_type": "code",
   "execution_count": null,
   "metadata": {},
   "outputs": [],
   "source": [
    "#Step 6: TensorFlow-- Keras?\n",
    "#This part is optional but this part is for me assigned by Dr. Boukari"
   ]
  }
 ],
 "metadata": {
  "kernelspec": {
   "display_name": "Python 3.8.3 ('base')",
   "language": "python",
   "name": "python3"
  },
  "language_info": {
   "codemirror_mode": {
    "name": "ipython",
    "version": 3
   },
   "file_extension": ".py",
   "mimetype": "text/x-python",
   "name": "python",
   "nbconvert_exporter": "python",
   "pygments_lexer": "ipython3",
   "version": "3.8.3"
  },
  "orig_nbformat": 4,
  "vscode": {
   "interpreter": {
    "hash": "f84e4be666bae1bbb80ef3eb4fa2dcfdbb81c9ca7e85d34592d94d3bc3cd8947"
   }
  }
 },
 "nbformat": 4,
 "nbformat_minor": 2
}
